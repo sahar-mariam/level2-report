{
  "nbformat": 4,
  "nbformat_minor": 0,
  "metadata": {
    "colab": {
      "provenance": [],
      "authorship_tag": "ABX9TyMn8jNhd039a353o15rWMQX",
      "include_colab_link": true
    },
    "kernelspec": {
      "name": "python3",
      "display_name": "Python 3"
    },
    "language_info": {
      "name": "python"
    }
  },
  "cells": [
    {
      "cell_type": "markdown",
      "metadata": {
        "id": "view-in-github",
        "colab_type": "text"
      },
      "source": [
        "<a href=\"https://colab.research.google.com/github/sahar-mariam/level2-report/blob/main/NBC_sklearn.ipynb\" target=\"_parent\"><img src=\"https://colab.research.google.com/assets/colab-badge.svg\" alt=\"Open In Colab\"/></a>"
      ]
    },
    {
      "cell_type": "code",
      "execution_count": 5,
      "metadata": {
        "id": "zaPXNF9kTAM3"
      },
      "outputs": [],
      "source": [
        "# Importing the necessary packages\n",
        "import sklearn\n",
        "from sklearn.datasets import load_breast_cancer\n",
        "from sklearn.model_selection import train_test_split\n",
        "# Model evaluation by using Naïve Bayes algorithm.\n",
        "from sklearn.naive_bayes import GaussianNB"
      ]
    },
    {
      "cell_type": "code",
      "source": [
        "#Loads the breast cancer dataset and organizes the data.\n",
        "#Loading the dataset and organizing the data\n",
        "DataSet = load_breast_cancer()\n",
        "labelnames = DataSet['target_names']\n",
        "labels = DataSet['target']\n",
        "featurenames = DataSet['feature_names']\n",
        "features = DataSet['data']"
      ],
      "metadata": {
        "id": "QpxJVSwBTFmd"
      },
      "execution_count": 6,
      "outputs": []
    },
    {
      "cell_type": "code",
      "source": [
        "#Splits the dataset into training and testing sets using the train_test_split() function.\n",
        "train, test, train_labels, test_labels = train_test_split(features,labels,test_size = 0.30, random_state = 300)\n"
      ],
      "metadata": {
        "id": "zcsvCleeTFqY"
      },
      "execution_count": 7,
      "outputs": []
    },
    {
      "cell_type": "code",
      "source": [
        "#Creates a Naïve Bayes classifier model:\n",
        "#Initializing the model:\n",
        "NBclassifier = GaussianNB()\n",
        "\n",
        "# Train the model:\n",
        "NBmodel = NBclassifier.fit(train, train_labels)\n",
        "\n",
        "#Making predictions by using pred() function:\n",
        "NBpreds = NBclassifier.predict(test)\n",
        "print(\"The predictions are:\\n\", NBpreds[:15])\n",
        "\n",
        "# Finding accuracy of our Naive Bayes classifier:\n",
        "from sklearn.metrics import accuracy_score\n",
        "print(\"Accuracy of our classifier is:\", accuracy_score(test_labels, NBpreds) *100)\n",
        "#The accuracy represents the percentage of correctly predicted class labels for the test data."
      ],
      "metadata": {
        "colab": {
          "base_uri": "https://localhost:8080/"
        },
        "id": "yj9fmMm6TFuS",
        "outputId": "8f21f05c-2d85-4ef8-b740-6a1cf5da31d7"
      },
      "execution_count": 8,
      "outputs": [
        {
          "output_type": "stream",
          "name": "stdout",
          "text": [
            "The predictions are:\n",
            " [0 0 1 1 0 0 0 1 1 1 1 1 0 1 0]\n",
            "Accuracy of our classifier is: 93.56725146198829\n"
          ]
        }
      ]
    }
  ]
}