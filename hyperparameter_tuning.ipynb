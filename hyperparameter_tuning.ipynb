{
  "nbformat": 4,
  "nbformat_minor": 0,
  "metadata": {
    "colab": {
      "provenance": [],
      "authorship_tag": "ABX9TyOKH3gZ1azv7Mg3F4N0Z+hf",
      "include_colab_link": true
    },
    "kernelspec": {
      "name": "python3",
      "display_name": "Python 3"
    },
    "language_info": {
      "name": "python"
    }
  },
  "cells": [
    {
      "cell_type": "markdown",
      "metadata": {
        "id": "view-in-github",
        "colab_type": "text"
      },
      "source": [
        "<a href=\"https://colab.research.google.com/github/sahar-mariam/level2-report/blob/main/hyperparameter_tuning.ipynb\" target=\"_parent\"><img src=\"https://colab.research.google.com/assets/colab-badge.svg\" alt=\"Open In Colab\"/></a>"
      ]
    },
    {
      "cell_type": "markdown",
      "source": [
        " Real-World application of Hyperparameter Tuning using the popular breast cancer dataset from Scikit-learn. Using a Random Forest Classifier and perform hyperparameter Tuning using RandomizedSearchCV for efficient exploration of the hyperparameter space.\n"
      ],
      "metadata": {
        "id": "afc2ls-g6dup"
      }
    },
    {
      "cell_type": "markdown",
      "source": [
        "The code demonstrates the process of building a Random Forest Classifier for breast cancer classification, optimizing its hyperparameters using RandomizedSearchCV, and evaluating its performance on a test set.\n",
        "\n",
        "The goal is to find the combination of hyperparameters that maximizes the model's ability to accurately classify breast tumors as either malignant or benign."
      ],
      "metadata": {
        "id": "3xydZc7h9SUw"
      }
    },
    {
      "cell_type": "code",
      "source": [
        "# Import necessary libraries\n",
        "from sklearn.datasets import load_breast_cancer\n",
        "from sklearn.model_selection import train_test_split, RandomizedSearchCV\n",
        "from sklearn.ensemble import RandomForestClassifier\n",
        "from sklearn.metrics import accuracy_score, classification_report"
      ],
      "metadata": {
        "id": "becC3pkh6yZW"
      },
      "execution_count": 1,
      "outputs": []
    },
    {
      "cell_type": "code",
      "source": [
        "# Load the Breast Cancer dataset\n",
        "data = load_breast_cancer()\n",
        "X = data.data\n",
        "y = data.target"
      ],
      "metadata": {
        "id": "9bD99ASs6394"
      },
      "execution_count": 2,
      "outputs": []
    },
    {
      "cell_type": "code",
      "source": [
        "# Split the dataset into training and testing sets\n",
        "X_train, X_test, y_train, y_test = train_test_split(X, y, test_size=0.2, random_state=42)\n"
      ],
      "metadata": {
        "id": "R1mgXIQw7AHc"
      },
      "execution_count": 3,
      "outputs": []
    },
    {
      "cell_type": "markdown",
      "source": [
        "- Set up a hyperparameter distribution to search using RandomizedSearchCV. The distribution includes different values for the number of trees (n_estimators), maximum depth of the trees (max_depth), minimum samples required to split an internal node (min_samples_split), minimum samples required to be a leaf node (min_samples_leaf), and whether to bootstrap samples (bootstrap).\n",
        "\n",
        "- The hyperparameter space to be explored is defined using a dictionary named param_dist. It includes hyperparameters such as the number of trees in the forest (n_estimators), the maximum depth of the trees (max_depth), minimum samples required to split an internal node (min_samples_split), minimum samples required to be a leaf node (min_samples_leaf), and whether to bootstrap samples (bootstrap).\n",
        "- The RandomizedSearchCV is employed for hyperparameter tuning. It performs a randomized search over the hyperparameter space, conducting a specified number of iterations (n_iter) and using 5-fold cross-validation."
      ],
      "metadata": {
        "id": "Ox1ONGzx7rp8"
      }
    },
    {
      "cell_type": "code",
      "source": [
        "# Define the Random Forest model\n",
        "rf_model = RandomForestClassifier()\n",
        "\n",
        "# Define the hyperparameter distribution to search\n",
        "param_dist = {\n",
        "    'n_estimators': [50, 100, 200, 300],\n",
        "    'max_depth': [None, 10, 20, 30],\n",
        "    'min_samples_split': [2, 5, 10],\n",
        "    'min_samples_leaf': [1, 2, 4],\n",
        "    'bootstrap': [True, False]\n",
        "}"
      ],
      "metadata": {
        "id": "QavaO2Qr7KQd"
      },
      "execution_count": 4,
      "outputs": []
    },
    {
      "cell_type": "markdown",
      "source": [
        "The RandomizedSearchCV performs a randomized search over the hyperparameter space using 5-fold cross-validation.\n",
        "After the search is complete, we print the best hyperparameters."
      ],
      "metadata": {
        "id": "yZzWsRno76Jq"
      }
    },
    {
      "cell_type": "code",
      "source": [
        "# Use RandomizedSearchCV to find the best hyperparameters\n",
        "random_search = RandomizedSearchCV(rf_model, param_distributions=param_dist, n_iter=10, cv=5, random_state=42)\n",
        "random_search.fit(X_train, y_train)\n",
        "\n",
        "# Print the best hyperparameters\n",
        "print(\"Best hyperparameters: \", random_search.best_params_)"
      ],
      "metadata": {
        "colab": {
          "base_uri": "https://localhost:8080/"
        },
        "id": "6uQf1lyV7ddE",
        "outputId": "07f5412d-cf8d-4697-f67e-fa75ba9cd408"
      },
      "execution_count": 5,
      "outputs": [
        {
          "output_type": "stream",
          "name": "stdout",
          "text": [
            "Best hyperparameters:  {'n_estimators': 100, 'min_samples_split': 2, 'min_samples_leaf': 1, 'max_depth': 10, 'bootstrap': False}\n"
          ]
        }
      ]
    },
    {
      "cell_type": "code",
      "source": [
        "# Make predictions on the test set using the best model\n",
        "best_model = random_search.best_estimator_\n",
        "y_pred = best_model.predict(X_test)"
      ],
      "metadata": {
        "id": "pz3xCb3g7eyi"
      },
      "execution_count": 6,
      "outputs": []
    },
    {
      "cell_type": "markdown",
      "source": [
        "Evaluate the performance of the best model on the test set and display a classification report."
      ],
      "metadata": {
        "id": "egwjRWaq8AXF"
      }
    },
    {
      "cell_type": "code",
      "source": [
        "# Evaluate the model performance\n",
        "accuracy = accuracy_score(y_test, y_pred)\n",
        "print(f\"Accuracy on the test set: {accuracy:.2f}\")\n",
        "\n",
        "# Display additional metrics\n",
        "print(\"\\nClassification Report:\")\n",
        "print(classification_report(y_test, y_pred))"
      ],
      "metadata": {
        "colab": {
          "base_uri": "https://localhost:8080/"
        },
        "id": "vrZlVliO7e6X",
        "outputId": "936e2ae0-450d-458d-ff68-a1ffc6d10ee6"
      },
      "execution_count": 7,
      "outputs": [
        {
          "output_type": "stream",
          "name": "stdout",
          "text": [
            "Accuracy on the test set: 0.96\n",
            "\n",
            "Classification Report:\n",
            "              precision    recall  f1-score   support\n",
            "\n",
            "           0       0.98      0.93      0.95        43\n",
            "           1       0.96      0.99      0.97        71\n",
            "\n",
            "    accuracy                           0.96       114\n",
            "   macro avg       0.97      0.96      0.96       114\n",
            "weighted avg       0.97      0.96      0.96       114\n",
            "\n"
          ]
        }
      ]
    }
  ]
}